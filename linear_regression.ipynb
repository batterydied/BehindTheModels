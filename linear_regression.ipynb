{
 "cells": [
  {
   "cell_type": "code",
   "execution_count": 169,
   "id": "dfaff732",
   "metadata": {},
   "outputs": [],
   "source": [
    "import numpy as np\n",
    "import pandas as pd\n",
    "from preprocessing import preprocessing "
   ]
  },
  {
   "cell_type": "code",
   "execution_count": 170,
   "id": "6e70ed0e",
   "metadata": {},
   "outputs": [],
   "source": [
    "df = pd.read_csv('./data/student_habits_performance.csv')\n",
    "X = df.iloc[:, 1:-1]\n",
    "y = df.iloc[:, -1]"
   ]
  },
  {
   "cell_type": "code",
   "execution_count": 171,
   "id": "67b7b96e",
   "metadata": {},
   "outputs": [],
   "source": [
    "X_train, X_test, y_train, y_test = preprocessing(X, y)"
   ]
  },
  {
   "cell_type": "code",
   "execution_count": 172,
   "id": "70ec0542",
   "metadata": {},
   "outputs": [],
   "source": [
    "class LinearRegression():\n",
    "    def __init__(self, learning_rate = 0.01, max_epochs = 100, treshold = 1e-6, batch_size = None):\n",
    "        self.weights = None\n",
    "        self.bias = 0\n",
    "        self.learning_rate = learning_rate\n",
    "        self.max_epochs = max_epochs\n",
    "        self.treshold = treshold\n",
    "        self.batch_size = batch_size\n",
    "\n",
    "    def fit(self, X_train, y_train):\n",
    "        n_samples, n_features = X_train.shape\n",
    "        self.weights = np.random.randn(n_features)\n",
    "\n",
    "        batch_size = self.batch_size if self.batch_size else n_samples\n",
    "        previous_loss = float('-inf')\n",
    "\n",
    "        for _ in range(self.max_epochs):\n",
    "            indices = np.arange(n_samples)\n",
    "            np.random.shuffle(indices)\n",
    "            X_train = X_train[indices]\n",
    "            y_train = y_train[indices]\n",
    "            total_loss = 0\n",
    "\n",
    "            for i in range(0, n_samples, batch_size):\n",
    "                samples = X_train[i: i + batch_size]\n",
    "                true_vals = y_train[i: i + batch_size]\n",
    "\n",
    "                dW, dB = self.gradient_descent(samples, true_vals)\n",
    "                \n",
    "                update_w = self.learning_rate * dW\n",
    "                update_b = self.learning_rate * dB\n",
    "\n",
    "                self.weights -= update_w\n",
    "                self.bias -= update_b\n",
    "\n",
    "                error = samples @ self.weights + self.bias - true_vals\n",
    "                total_loss += np.sum(error ** 2)\n",
    "            \n",
    "            epoch_loss = total_loss / n_samples\n",
    "            if abs(epoch_loss - previous_loss) < self.treshold:\n",
    "                break\n",
    "            previous_loss = epoch_loss\n",
    "            \n",
    "        return [self.weights, self.bias]\n",
    "    \n",
    "    def gradient_descent(self, samples, true_vals):\n",
    "        n_samples = samples.shape[0]\n",
    "        preds = samples @ self.weights + self.bias\n",
    "        error = preds - true_vals\n",
    "        #mse = np.mean(error ** 2)\n",
    "        #print(f'MSE: {mse}')\n",
    "\n",
    "        dW = (2/n_samples) * samples.T @ error\n",
    "        dB = (2/n_samples) * np.sum(error)\n",
    "\n",
    "        return [dW, dB]\n",
    "\n",
    "    def predict(self, X_test):\n",
    "        return X_test @ self.weights + self.bias\n",
    "    \n",
    "    def score(self, X_test, y_test):\n",
    "        rss = np.sum((y_test - self.predict(X_test)) ** 2)\n",
    "        tss = np.sum((y_test - np.mean(y_test)) ** 2)\n",
    "        return 1 - rss/tss\n",
    "\n"
   ]
  },
  {
   "cell_type": "code",
   "execution_count": 173,
   "id": "19bbb34a",
   "metadata": {},
   "outputs": [
    {
     "data": {
      "text/plain": [
       "np.float64(0.8737492459483571)"
      ]
     },
     "execution_count": 173,
     "metadata": {},
     "output_type": "execute_result"
    }
   ],
   "source": [
    "model = LinearRegression(batch_size = 100)\n",
    "model.fit(X_train, y_train)\n",
    "model.score(X_test, y_test)"
   ]
  }
 ],
 "metadata": {
  "kernelspec": {
   "display_name": ".venv",
   "language": "python",
   "name": "python3"
  },
  "language_info": {
   "codemirror_mode": {
    "name": "ipython",
    "version": 3
   },
   "file_extension": ".py",
   "mimetype": "text/x-python",
   "name": "python",
   "nbconvert_exporter": "python",
   "pygments_lexer": "ipython3",
   "version": "3.10.0"
  }
 },
 "nbformat": 4,
 "nbformat_minor": 5
}
