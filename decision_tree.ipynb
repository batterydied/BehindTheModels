{
 "cells": [
  {
   "cell_type": "code",
   "execution_count": null,
   "id": "0d5aec47",
   "metadata": {},
   "outputs": [],
   "source": [
    "import numpy as np\n",
    "import pandas as pd\n",
    "\n",
    "df = pd.read_csv('./data/student_habits_performance.csv')\n",
    "X = df.iloc[:, 1: -1]\n",
    "y = df.iloc[:, -1]\n"
   ]
  }
 ],
 "metadata": {
  "language_info": {
   "name": "python"
  }
 },
 "nbformat": 4,
 "nbformat_minor": 5
}
