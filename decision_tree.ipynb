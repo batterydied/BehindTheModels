{
 "cells": [
  {
   "cell_type": "code",
   "execution_count": 9,
   "id": "0d5aec47",
   "metadata": {},
   "outputs": [],
   "source": [
    "import numpy as np\n",
    "import pandas as pd\n",
    "from preprocessing import Preprocessor\n",
    "from asserts import asserts\n",
    "\n",
    "df = pd.read_csv('./data/student_habits_performance.csv')\n",
    "X = df.iloc[:, 1: -1]\n",
    "y = df.iloc[:, -1]\n",
    "\n"
   ]
  },
  {
   "cell_type": "code",
   "execution_count": 10,
   "id": "f5ecc454",
   "metadata": {},
   "outputs": [],
   "source": [
    "preprocessor = Preprocessor()"
   ]
  },
  {
   "cell_type": "code",
   "execution_count": 11,
   "id": "c42e799c",
   "metadata": {},
   "outputs": [],
   "source": [
    "X_train, X_test, y_train, y_test = preprocessor.preprocess(X, y)"
   ]
  },
  {
   "cell_type": "code",
   "execution_count": 12,
   "id": "f237558f",
   "metadata": {},
   "outputs": [],
   "source": [
    "import numpy as np\n",
    "\n",
    "class TreeNode():\n",
    "    def __init__(self, left=None, right=None, feature_index=None, threshold=None, reduction_in_var=None, value=None):\n",
    "        self.left = left\n",
    "        self.right = right\n",
    "        self.feature_index = feature_index\n",
    "        self.threshold = threshold\n",
    "        self.reduction_in_var = reduction_in_var\n",
    "        self.value = value  #for leaf nodes\n",
    "\n",
    "class DecisionTreeRegressor():\n",
    "    def __init__(self, min_samples_split=2, max_depth=5):\n",
    "        self.root = None\n",
    "        self.min_samples_split = min_samples_split\n",
    "        self.max_depth = max_depth\n",
    "\n",
    "    def get_best_split(self, X, y):\n",
    "        n_samples, n_features = X.shape\n",
    "        best_weighted_child_var = float('inf')\n",
    "        best_feature_index = None\n",
    "        best_threshold = None\n",
    "\n",
    "        for i in range(n_features):\n",
    "            sorted_col_indices = X[:, i].argsort()\n",
    "            sorted_col = X[:, i][sorted_col_indices]\n",
    "            sorted_y = y[sorted_col_indices]\n",
    "\n",
    "            for j in range(n_samples - 1):\n",
    "                threshold = (sorted_col[j] + sorted_col[j + 1]) / 2\n",
    "                left_y = sorted_y[sorted_col <= threshold]\n",
    "                right_y = sorted_y[sorted_col > threshold]\n",
    "\n",
    "                if len(left_y) < 2 or len(right_y) < 2:\n",
    "                    continue\n",
    "                    \n",
    "                weighted_left_var = np.var(left_y) * len(left_y) / n_samples\n",
    "                weighted_right_var = np.var(right_y) * len(right_y) / n_samples\n",
    "                weighted_child_var = weighted_left_var + weighted_right_var\n",
    "\n",
    "                if weighted_child_var < best_weighted_child_var:\n",
    "                    best_weighted_child_var = weighted_child_var\n",
    "                    best_feature_index = i\n",
    "                    best_threshold = threshold\n",
    "\n",
    "        if best_feature_index is None:  #no valid split found\n",
    "            return None, None, None\n",
    "            \n",
    "        reduction_in_var = np.var(y) - best_weighted_child_var\n",
    "        return best_feature_index, best_threshold, reduction_in_var\n",
    "\n",
    "    def build_tree(self, X, y, depth=0):\n",
    "        n_samples = X.shape[0] if len(X.shape) > 1 else len(X)\n",
    "        \n",
    "        if n_samples < self.min_samples_split or depth >= self.max_depth:\n",
    "            return TreeNode(value=np.mean(y))\n",
    "        \n",
    "        feature_index, threshold, reduction_in_var = self.get_best_split(X, y)\n",
    "        if feature_index is None:  #no valid split found\n",
    "            return TreeNode(value=np.mean(y))\n",
    "\n",
    "        left_mask = X[:, feature_index] <= threshold\n",
    "        right_mask = ~left_mask\n",
    "        \n",
    "        X_left, y_left = X[left_mask], y[left_mask]\n",
    "        X_right, y_right = X[right_mask], y[right_mask]\n",
    "\n",
    "        left_child = self.build_tree(X_left, y_left, depth + 1)\n",
    "        right_child = self.build_tree(X_right, y_right, depth + 1)\n",
    "\n",
    "        return TreeNode(left_child, right_child, feature_index, threshold, reduction_in_var)\n",
    "    \n",
    "    def fit(self, X_train, y_train):\n",
    "        asserts(X_train, y_train)\n",
    "            \n",
    "        self.root = self.build_tree(X_train, y_train)\n",
    "\n",
    "    def predict(self, X_test):\n",
    "        if self.root is None:\n",
    "            raise ValueError(\"The tree is not fitted yet\")\n",
    "            \n",
    "        preds = np.zeros(len(X_test))\n",
    "        for i in range(len(X_test)):\n",
    "            node = self.root\n",
    "            while node.value is None:\n",
    "                if X_test[i, node.feature_index] <= node.threshold:\n",
    "                    node = node.left\n",
    "                else:\n",
    "                    node = node.right\n",
    "            preds[i] = node.value\n",
    "        return preds\n",
    "\n",
    "    def score(self, X_test, y_test):\n",
    "        y_pred = self.predict(X_test)\n",
    "        rss = np.sum((y_test - y_pred) ** 2)\n",
    "        tss = np.sum((y_test - np.mean(y_test)) ** 2)\n",
    "        return 1 - (rss / tss) if tss != 0 else 0.0"
   ]
  },
  {
   "cell_type": "code",
   "execution_count": 13,
   "id": "8f3e16ef",
   "metadata": {},
   "outputs": [
    {
     "data": {
      "text/plain": [
       "np.float64(0.7519831168449562)"
      ]
     },
     "execution_count": 13,
     "metadata": {},
     "output_type": "execute_result"
    }
   ],
   "source": [
    "regressor = DecisionTreeRegressor()\n",
    "regressor.fit(X_train, y_train)\n",
    "regressor.score(X_test, y_test)"
   ]
  },
  {
   "cell_type": "code",
   "execution_count": 14,
   "id": "e90883b5",
   "metadata": {},
   "outputs": [
    {
     "name": "stderr",
     "output_type": "stream",
     "text": [
      "/Users/brokestudent/Desktop/Projects/Behind the Models/.venv/lib/python3.10/site-packages/sklearn/preprocessing/_encoders.py:246: UserWarning: Found unknown categories in columns [3] during transform. These unknown categories will be encoded as all zeros\n",
      "  warnings.warn(\n"
     ]
    },
    {
     "data": {
      "text/plain": [
       "array([45.6       , 97.93076923, 44.2       , 27.73333333, 73.84166667,\n",
       "       96.92727273, 83.68333333, 84.83548387, 78.        , 92.68928571,\n",
       "       69.76875   ])"
      ]
     },
     "execution_count": 14,
     "metadata": {},
     "output_type": "execute_result"
    }
   ],
   "source": [
    "input = [\n",
    "    [23, 'Female', 0.0, 1.2, 1.1, 'No', 85.0, 8.0, 'Fair', 6, 'Master', 'Average', 8, 'Yes'],\n",
    "    [20, 'Female', 6.9, 2.8, 2.3, 'No', 97.3, 4.6, 'Good', 6, 'High School', 'Average', 8, 'No'],\n",
    "    [21, 'Male', 1.4, 3.1, 1.3, 'No', 94.8, 8.0, 'Poor', 1, 'High School', 'Poor', 1, 'No'],\n",
    "    [23, 'Female', 1.0, 3.9, 1.0, 'No', 71.0, 9.2, 'Poor', 4, 'Master', 'Good', 1, 'Yes'],\n",
    "    [19, 'Female', 5.0, 4.4, 0.5, 'No', 90.9, 4.9, 'Fair', 3, 'Master', 'Good', 1, 'No'],\n",
    "    [24, 'Male', 7.2, 1.3, 0.0, 'No', 82.9, 7.4, 'Fair', 1, 'Master', 'Average', 4, 'No'],\n",
    "    [21, 'Female', 5.6, 1.5, 1.4, 'Yes', 85.8, 6.5, 'Good', 2, 'Master', 'Poor', 4, 'No'],\n",
    "    [21, 'Female', 4.3, 1.0, 2.0, 'Yes', 77.7, 4.6, 'Fair', 0, 'Bachelor', 'Average', 8, 'No'],\n",
    "    [23, 'Female', 4.4, 2.2, 1.7, 'No', 100.0, 7.1, 'Good', 3, 'Bachelor', 'Good', 1, 'No'],\n",
    "    [18, 'Female', 4.8, 3.1, 1.3, 'No', 95.4, 7.5, 'Good', 5, 'Bachelor', 'Good', 10, 'Yes'],\n",
    "    [19, 'Female', 4.6, 3.7, 0.8, 'No', 77.6, 5.8, 'Fair', 1, 'None', 'Good', 3, 'No'],\n",
    "]\n",
    "\n",
    "\n",
    "\n",
    "input = preprocessor.transform_input(input)\n",
    "regressor.predict(input)"
   ]
  },
  {
   "cell_type": "code",
   "execution_count": 15,
   "id": "6ec6dbb7",
   "metadata": {},
   "outputs": [
    {
     "data": {
      "text/plain": [
       "0.7152027260115317"
      ]
     },
     "execution_count": 15,
     "metadata": {},
     "output_type": "execute_result"
    }
   ],
   "source": [
    "import sklearn\n",
    "dtr = sklearn.tree.DecisionTreeRegressor()\n",
    "dtr.fit(X_train, y_train)\n",
    "dtr.score(X_test, y_test)"
   ]
  },
  {
   "cell_type": "code",
   "execution_count": 16,
   "id": "e7f4fc4c",
   "metadata": {},
   "outputs": [
    {
     "data": {
      "text/plain": [
       "array([ 56.2,  96.6,  45.3,  26.8,  66.4, 100. ,  89.8,  72.6,  65.7,\n",
       "       100. ,  63.3])"
      ]
     },
     "execution_count": 16,
     "metadata": {},
     "output_type": "execute_result"
    }
   ],
   "source": [
    "dtr.predict(input)"
   ]
  },
  {
   "cell_type": "code",
   "execution_count": null,
   "id": "0220675f",
   "metadata": {},
   "outputs": [],
   "source": []
  }
 ],
 "metadata": {
  "kernelspec": {
   "display_name": ".venv",
   "language": "python",
   "name": "python3"
  },
  "language_info": {
   "codemirror_mode": {
    "name": "ipython",
    "version": 3
   },
   "file_extension": ".py",
   "mimetype": "text/x-python",
   "name": "python",
   "nbconvert_exporter": "python",
   "pygments_lexer": "ipython3",
   "version": "3.10.0"
  }
 },
 "nbformat": 4,
 "nbformat_minor": 5
}
